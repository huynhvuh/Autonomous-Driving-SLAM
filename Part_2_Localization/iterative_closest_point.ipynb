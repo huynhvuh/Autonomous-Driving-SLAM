{
 "cells": [
  {
   "cell_type": "code",
   "execution_count": 1,
   "metadata": {
    "collapsed": true
   },
   "outputs": [],
   "source": [
    "from lego_robot import *\n",
    "from slam_b_library import\\\n",
    "     filter_step, concatenate_transform\n",
    "from project_landmarks import write_cylinders\n",
    "from estimate_transform_correct_pose import\\\n",
    "     estimate_transform, apply_transform, correct_pose\n",
    "from find_wall_pairs import\\\n",
    "     get_subsampled_points, get_corresponding_points_on_wall"
   ]
  },
  {
   "cell_type": "markdown",
   "metadata": {},
   "source": [
    "##### Iterative Closest Point (ICP)\n",
    "    -  ICP is one of the most used methods for aligning n (n>1) dimensional point sets based on an initial estimation.\n",
    "    \n",
    "    Iterate the steps of transforming the points, selecting point pairs, and estimating the transform. Returns the final transformation."
   ]
  },
  {
   "cell_type": "code",
   "execution_count": 2,
   "metadata": {},
   "outputs": [],
   "source": [
    "def get_icp_transform(world_points, iterations):\n",
    "    # Equate all the transforms to identitiy initially\n",
    "    overall_trafo = (1.0, 1.0, 0.0, 0.0, 0.0)\n",
    "   \n",
    "    for i in xrange(0, iterations):\n",
    "        # Apply the transformation to the world points\n",
    "        world_points = [apply_transform(overall_trafo, p) for p in world_points]\n",
    "        # Get the corresponding wall pairs\n",
    "        left, right = get_corresponding_points_on_wall(world_points)\n",
    "        # Estimate the new transformation\n",
    "        trafo = estimate_transform(left, right, fix_scale = True)\n",
    "    \n",
    "        if(trafo):\n",
    "            # Concatenate the new transformation to the overall transformation\n",
    "            overall_trafo = concatenate_transform(trafo, overall_trafo)\n",
    "    \n",
    "    return overall_trafo"
   ]
  },
  {
   "cell_type": "code",
   "execution_count": 3,
   "metadata": {},
   "outputs": [],
   "source": [
    "if __name__ == '__main__':\n",
    "    # The constants we used for the filter_step.\n",
    "    scanner_displacement = 30.0\n",
    "    ticks_to_mm = 0.349\n",
    "    robot_width = 150.0\n",
    "\n",
    "    # The start pose we obtained miraculously.\n",
    "    pose = (1850.0, 1897.0, 3.717551306747922)\n",
    "\n",
    "    # Read the logfile which contains all scans.\n",
    "    logfile = LegoLogfile()\n",
    "    logfile.read(\"Logs/robot4_motors.txt\")\n",
    "    logfile.read(\"Logs/robot4_scan.txt\")\n",
    "\n",
    "    # Iterate over all positions.\n",
    "    out_file = file(\"Logs/icp_wall_transform.txt\", \"w\")\n",
    "    for i in xrange(len(logfile.scan_data)):\n",
    "        # Compute the new pose.\n",
    "        pose = filter_step(pose, logfile.motor_ticks[i],\n",
    "                           ticks_to_mm, robot_width,\n",
    "                           scanner_displacement)\n",
    "\n",
    "        # Subsample points.\n",
    "        subsampled_points = get_subsampled_points(logfile.scan_data[i])\n",
    "        world_points = [LegoLogfile.scanner_to_world(pose, c)\n",
    "                        for c in subsampled_points]\n",
    "\n",
    "        # Get the transformation.\n",
    "        # You may play withe the number of iterations here to see\n",
    "        # the effect on the trajectory!\n",
    "        trafo = get_icp_transform(world_points, iterations = 3)\n",
    "\n",
    "        # Correct the initial position using trafo.\n",
    "        pose = correct_pose(pose, trafo)\n",
    "\n",
    "        # Write to file.\n",
    "        # The pose.\n",
    "        out_file.write(\"F %f %f %f\\n\" % pose)\n",
    "        # Write the scanner points and corresponding points.\n",
    "        write_cylinders(out_file, \"W C\",\n",
    "            [apply_transform(trafo, p) for p in world_points])\n",
    "\n",
    "    out_file.close()"
   ]
  }
 ],
 "metadata": {
  "kernelspec": {
   "display_name": "Python 2",
   "language": "python",
   "name": "python2"
  },
  "language_info": {
   "codemirror_mode": {
    "name": "ipython",
    "version": 2
   },
   "file_extension": ".py",
   "mimetype": "text/x-python",
   "name": "python",
   "nbconvert_exporter": "python",
   "pygments_lexer": "ipython2",
   "version": "2.7.14"
  }
 },
 "nbformat": 4,
 "nbformat_minor": 2
}