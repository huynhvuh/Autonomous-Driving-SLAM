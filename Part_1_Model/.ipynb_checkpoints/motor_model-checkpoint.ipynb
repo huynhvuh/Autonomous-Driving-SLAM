{
 "cells": [
  {
   "cell_type": "markdown",
   "metadata": {},
   "source": [
    "### 1. Motor Control"
   ]
  },
  {
   "cell_type": "code",
   "execution_count": 1,
   "metadata": {},
   "outputs": [],
   "source": [
    "import matplotlib.pyplot as plt"
   ]
  },
  {
   "cell_type": "code",
   "execution_count": 2,
   "metadata": {},
   "outputs": [
    {
     "ename": "SyntaxError",
     "evalue": "Missing parentheses in call to 'print'. Did you mean print(line)? (<ipython-input-2-ecbc41a011c6>, line 5)",
     "output_type": "error",
     "traceback": [
      "\u001b[0;36m  File \u001b[0;32m\"<ipython-input-2-ecbc41a011c6>\"\u001b[0;36m, line \u001b[0;32m5\u001b[0m\n\u001b[0;31m    print line\u001b[0m\n\u001b[0m          ^\u001b[0m\n\u001b[0;31mSyntaxError\u001b[0m\u001b[0;31m:\u001b[0m Missing parentheses in call to 'print'. Did you mean print(line)?\n"
     ]
    }
   ],
   "source": [
    "N=10\n",
    "f=open(\"robot4_motors.txt\")\n",
    "for i in range(N):\n",
    "    line=f.next().strip()\n",
    "    print(line)\n",
    "f.close()"
   ]
  },
  {
   "cell_type": "markdown",
   "metadata": {},
   "source": [
    "Column no. 2 is the time in milli seconds, column no. 3 is the encoder values for the left motor and column no. 7 is the encoder values for the right motor."
   ]
  },
  {
   "cell_type": "code",
   "execution_count": null,
   "metadata": {},
   "outputs": [],
   "source": [
    "f = open(\"robot4_motors.txt\")\n",
    "left_encoder = []\n",
    "right_encoder = []\n",
    "for l in f:\n",
    "    sp = l.split()\n",
    "    left_encoder.append(int(sp[2]))\n",
    "    right_encoder.append(int(sp[6]))"
   ]
  },
  {
   "cell_type": "code",
   "execution_count": null,
   "metadata": {
    "scrolled": true
   },
   "outputs": [],
   "source": [
    "plt.plot(left_encoder, label = 'left')\n",
    "plt.plot(right_encoder, label = 'right')\n",
    "plt.legend(loc='upper left')\n",
    "plt.show()"
   ]
  },
  {
   "cell_type": "markdown",
   "metadata": {},
   "source": [
    "Left one starts at higher value than the right one, but ends at a lower value. This means that, the vehicle is taking a left turn.\n",
    "Absolute tick numbers are hard to interpret, so a difference is found. The class 'LegoLogfile' can be used for it."
   ]
  },
  {
   "cell_type": "code",
   "execution_count": null,
   "metadata": {
    "scrolled": true
   },
   "outputs": [],
   "source": [
    "from lego_robot import LegoLogfile\n",
    "\n",
    "logfile = LegoLogfile()\n",
    "logfile.read(\"robot4_motors.txt\")\n",
    "plt.plot(logfile.motor_ticks)\n",
    "plt.show()"
   ]
  }
 ],
 "metadata": {
  "kernelspec": {
   "display_name": "Python 3",
   "language": "python",
   "name": "python3"
  },
  "language_info": {
   "codemirror_mode": {
    "name": "ipython",
    "version": 3
   },
   "file_extension": ".py",
   "mimetype": "text/x-python",
   "name": "python",
   "nbconvert_exporter": "python",
   "pygments_lexer": "ipython3",
   "version": "3.9.4"
  }
 },
 "nbformat": 4,
 "nbformat_minor": 2
}
